{
 "cells": [
  {
   "cell_type": "code",
   "execution_count": 2,
   "id": "ce2b62cd",
   "metadata": {},
   "outputs": [
    {
     "name": "stdout",
     "output_type": "stream",
     "text": [
      "4\n",
      "4\n",
      "18\n",
      "18\n",
      "\n"
     ]
    }
   ],
   "source": [
    "class Circle:\n",
    "    \n",
    "    def __init__(self, radius):\n",
    "        self.radius = radius\n",
    "\n",
    "my_circle = Circle(4)\n",
    "your_circle = my_circle\n",
    "print(my_circle.radius)\n",
    "print(your_circle.radius)\n",
    "\n",
    "your_circle.radius = 18\n",
    "print(my_circle.radius)\n",
    "print(your_circle.radius)\n",
    "\n",
    "print()"
   ]
  },
  {
   "cell_type": "code",
   "execution_count": 10,
   "id": "8dc6b947",
   "metadata": {},
   "outputs": [
    {
     "name": "stdout",
     "output_type": "stream",
     "text": [
      "True\n",
      "['Water bottle', 'Candy']\n",
      "['Water bottle', 'Candy']\n",
      "['Water bottle', 'Candy']\n"
     ]
    }
   ],
   "source": [
    "class Backpack:\n",
    "    \n",
    "    def __init__(self):\n",
    "        self._items = []\n",
    "        \n",
    "    @property\n",
    "    def items(self):\n",
    "        return self._items\n",
    "    \n",
    "    def add_item(self, item):\n",
    "        self._items.append(item)\n",
    "    \n",
    "    def remove_item(self, item):\n",
    "        self._items.remove(item)\n",
    "    \n",
    "my_backpack = Backpack()\n",
    "your_backpack = my_backpack\n",
    "her_backpack = your_backpack\n",
    "\n",
    "print(my_backpack is your_backpack is her_backpack)\n",
    "\n",
    "my_backpack.add_item(\"Water bottle\")\n",
    "my_backpack.add_item(\"Candy\")\n",
    "\n",
    "print(my_backpack.items)\n",
    "print(your_backpack.items)\n",
    "print(her_backpack.items)"
   ]
  },
  {
   "cell_type": "code",
   "execution_count": 14,
   "id": "19cca93b",
   "metadata": {},
   "outputs": [
    {
     "name": "stdout",
     "output_type": "stream",
     "text": [
      "[5, 2, 3]\n",
      "[5, 2, 3]\n"
     ]
    }
   ],
   "source": [
    "a = [1, 2, 3]\n",
    "b = a\n",
    "b[0] = 5\n",
    "print(b)\n",
    "print(a)"
   ]
  },
  {
   "cell_type": "markdown",
   "id": "26d2fdc7",
   "metadata": {},
   "source": [
    "The purpose of cloning is to create a copy of the object that you can modify without mutating the original."
   ]
  },
  {
   "cell_type": "code",
   "execution_count": 15,
   "id": "ca5516fa",
   "metadata": {},
   "outputs": [
    {
     "name": "stdout",
     "output_type": "stream",
     "text": [
      "9144576\n",
      "[7, 3, 6, 8, 2, 3, 7, 2, 6, 3, 6]\n"
     ]
    }
   ],
   "source": [
    "a = [7, 3, 6, 8, 2, 3, 7, 2, 6, 3, 6]\n",
    "b = a.copy() \n",
    "c = b.copy()  \n",
    "b = c.copy()\n",
    " \n",
    "def remove_elem(data, target):\n",
    "    for item in data.copy():\n",
    "        if item == target:\n",
    "            data.remove(target)\n",
    "    return data\n",
    " \n",
    "def get_product(data):\n",
    "    data = data.copy()\n",
    "    total = 1\n",
    "    for i in range(len(data)):\n",
    "        total *= data.pop()\n",
    "    return total\n",
    " \n",
    "remove_elem(c, 3)\n",
    "print(get_product(b))\n",
    "print(a)"
   ]
  },
  {
   "cell_type": "code",
   "execution_count": null,
   "id": "a9c37765",
   "metadata": {},
   "outputs": [],
   "source": []
  }
 ],
 "metadata": {
  "kernelspec": {
   "display_name": "Python 3 (ipykernel)",
   "language": "python",
   "name": "python3"
  },
  "language_info": {
   "codemirror_mode": {
    "name": "ipython",
    "version": 3
   },
   "file_extension": ".py",
   "mimetype": "text/x-python",
   "name": "python",
   "nbconvert_exporter": "python",
   "pygments_lexer": "ipython3",
   "version": "3.9.0"
  }
 },
 "nbformat": 4,
 "nbformat_minor": 5
}
