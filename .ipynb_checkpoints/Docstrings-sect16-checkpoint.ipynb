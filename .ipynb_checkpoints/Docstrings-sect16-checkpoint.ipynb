{
 "cells": [
  {
   "cell_type": "code",
   "execution_count": 2,
   "id": "9c6bda1f",
   "metadata": {},
   "outputs": [],
   "source": [
    "def add(a, b):\n",
    "    \"\"\"Return the sum of a and b.\"\"\"\n",
    "    return a + b"
   ]
  },
  {
   "cell_type": "code",
   "execution_count": 5,
   "id": "0fb3149b",
   "metadata": {
    "scrolled": true
   },
   "outputs": [],
   "source": [
    "def make_frequency_dict(sequence):\n",
    "    \"\"\"Return a dictionary that maps each element in sequence to its frequency.\n",
    "\n",
    "    Create a dictionary that maps each element in the list sequence\n",
    "    to the number of times the element occurs in the list. The element\n",
    "    will be the key of the key-value pair in the dictionary and its frequency\n",
    "    will be the value of the key-value pair.\n",
    "\n",
    "    Argument:\n",
    "        sequence: A list of values. These values have to be of an\n",
    "            immutable data type because they will be assigned as the keys\n",
    "            of the dictionary. For example, they can be integers, booleans,\n",
    "            tuples, or strings.\n",
    "\n",
    "    Return:\n",
    "        A dictionary that maps each element in the list to its frequency.\n",
    "        For example, this function call:\n",
    "\n",
    "        make_frequency_dict([1, 6, 2, 6, 2])\n",
    "\n",
    "        returns this dictionary:\n",
    "\n",
    "        {1: 1, 6: 2, 2: 2}\n",
    "\n",
    "    Raise:\n",
    "        ValueError: if the list is empty.\n",
    "    \"\"\"\n",
    "    if not sequence:\n",
    "        raise ValueError(\"The list cannot be empty\")\n",
    "\n",
    "    freq = {}\n",
    "\n",
    "    for elem in sequence:\n",
    "        if elem not in freq:\n",
    "            freq[elem] = 1\n",
    "        else:\n",
    "            freq[elem] += 1\n",
    "\n",
    "    return freq\n"
   ]
  },
  {
   "cell_type": "markdown",
   "id": "4b4938af",
   "metadata": {},
   "source": [
    "\"\"\"summary line for a class\n",
    "\n",
    "Attributes:\n",
    "\n",
    "Methods:\n",
    "\n",
    "\n",
    "\"\"\"\n",
    "\n",
    "#must write individual docstrings for each method\n",
    "\n",
    "\"\"\"return values\n",
    "\n",
    "examples\n",
    "\n",
    "\"\"\"\n",
    "\n",
    "#too see the docstring:\n",
    "\n",
    "#help(classname)\n",
    "or\n",
    "#print(classname.__doc__)"
   ]
  },
  {
   "cell_type": "code",
   "execution_count": null,
   "id": "738bd2f1",
   "metadata": {},
   "outputs": [],
   "source": []
  }
 ],
 "metadata": {
  "kernelspec": {
   "display_name": "Python 3 (ipykernel)",
   "language": "python",
   "name": "python3"
  },
  "language_info": {
   "codemirror_mode": {
    "name": "ipython",
    "version": 3
   },
   "file_extension": ".py",
   "mimetype": "text/x-python",
   "name": "python",
   "nbconvert_exporter": "python",
   "pygments_lexer": "ipython3",
   "version": "3.9.0"
  }
 },
 "nbformat": 4,
 "nbformat_minor": 5
}
