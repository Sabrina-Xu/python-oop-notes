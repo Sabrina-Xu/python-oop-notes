{
 "cells": [
  {
   "cell_type": "code",
   "execution_count": 1,
   "id": "cc8c04fa",
   "metadata": {},
   "outputs": [],
   "source": [
    "class Polygon:\n",
    "    pass\n",
    "\n",
    "class Triangle(Polygon):\n",
    "    pass\n",
    "\n",
    "class Square(Polygon):\n",
    "    pass"
   ]
  },
  {
   "cell_type": "code",
   "execution_count": 7,
   "id": "911aaaf1",
   "metadata": {},
   "outputs": [
    {
     "name": "stdout",
     "output_type": "stream",
     "text": [
      "3\n",
      "Blue\n",
      "3\n",
      "4\n"
     ]
    }
   ],
   "source": [
    "class Polygon:\n",
    "    \n",
    "    def __init__(self, num_sides, color):\n",
    "        self.num_sides = num_sides\n",
    "        self.color = color\n",
    "        \n",
    "class Triangle(Polygon):\n",
    "    \n",
    "    no_sides = 3\n",
    "    \n",
    "    def __init__(self, base, height, color):\n",
    "        Polygon.__init__(self, Triangle.no_sides, color)\n",
    "        self.base = base\n",
    "        self.height = height\n",
    "\n",
    "my_triangle = Triangle(3, 4, \"Blue\")\n",
    "\n",
    "print(my_triangle.num_sides)\n",
    "print(my_triangle.color)\n",
    "print(my_triangle.base)\n",
    "print(my_triangle.height)"
   ]
  },
  {
   "cell_type": "markdown",
   "id": "7444bd9f",
   "metadata": {},
   "source": [
    "If we are not calling the __init__() method of Polygon, the attributes of the Polygon class will not be inherited by Triangle."
   ]
  },
  {
   "cell_type": "code",
   "execution_count": 10,
   "id": "c03f2755",
   "metadata": {},
   "outputs": [
    {
     "name": "stdout",
     "output_type": "stream",
     "text": [
      "Nara Nav\n",
      "6000\n",
      "Python\n"
     ]
    }
   ],
   "source": [
    "class Employee:\n",
    "    \n",
    "    def __init__(self, full_name, salary):\n",
    "        self.full_name = full_name\n",
    "        self.salary = salary\n",
    "        \n",
    "class Programmer(Employee):\n",
    "    \n",
    "    def __init__(self, full_name, salary, programming_language):\n",
    "        Employee.__init__(self, full_name, salary)\n",
    "        self.programming_language = programming_language\n",
    "        \n",
    "nora = Programmer(\"Nara Nav\", 6000, \"Python\")\n",
    "print(nora.full_name)\n",
    "print(nora.salary)\n",
    "print(nora.programming_language)"
   ]
  },
  {
   "cell_type": "code",
   "execution_count": 14,
   "id": "5aee62fd",
   "metadata": {},
   "outputs": [
    {
     "name": "stdout",
     "output_type": "stream",
     "text": [
      "0\n",
      "0\n",
      "0\n",
      "10\n",
      "False\n",
      "15\n",
      "15\n",
      "1\n",
      "True\n",
      "15\n",
      "15\n",
      "56\n"
     ]
    }
   ],
   "source": [
    "class Character:\n",
    "\n",
    "    def __init__(self, x, y, num_lives):\n",
    "        self.x = x\n",
    "        self.y = y\n",
    "        self.num_lives = num_lives\n",
    "\n",
    "\n",
    "class Player(Character):\n",
    "    INITIAL_X = 0\n",
    "    INITIAL_Y = 0\n",
    "    INITIAL_NUM_LIVES = 10\n",
    "\n",
    "    def __init__(self, score=0):\n",
    "        Character.__init__(self, Player.INITIAL_X, Player.INITIAL_Y, Player.INITIAL_NUM_LIVES)\n",
    "        self.score = score\n",
    "\n",
    "\n",
    "class Enemy(Character):\n",
    "\n",
    "    def __init__(self, x=15, y=15, num_lives=8, is_poisonous=False):\n",
    "        Character.__init__(self, x, y, num_lives)\n",
    "        self.is_poisonous = is_poisonous\n",
    "\n",
    "\n",
    "my_player = Player()\n",
    "\n",
    "print(my_player.score)\n",
    "print(my_player.x)\n",
    "print(my_player.y)\n",
    "print(my_player.num_lives)\n",
    "\n",
    "easy_enemy = Enemy(num_lives=1)\n",
    "hard_enemy = Enemy(num_lives=56, is_poisonous=True)\n",
    "\n",
    "print(easy_enemy.is_poisonous)\n",
    "print(easy_enemy.x)\n",
    "print(easy_enemy.y)\n",
    "print(easy_enemy.num_lives)\n",
    "\n",
    "print(hard_enemy.is_poisonous)\n",
    "print(hard_enemy.x)\n",
    "print(hard_enemy.y)\n",
    "print(hard_enemy.num_lives)\n"
   ]
  },
  {
   "cell_type": "code",
   "execution_count": 25,
   "id": "0ad4ec6e",
   "metadata": {},
   "outputs": [
    {
     "name": "stdout",
     "output_type": "stream",
     "text": [
      "1965\n"
     ]
    }
   ],
   "source": [
    "class Electronic_Device:\n",
    "    def __init__(self, is_bt_compatible, year, life):\n",
    "        self.is_bt_compatible = is_bt_compatible\n",
    "        self.year = year\n",
    "        self.life = life\n",
    "        \n",
    "class TV(Electronic_Device):\n",
    "    \n",
    "    def __init__(self, brand):\n",
    "        Electronic_Device.__init__(self, is_bt_compatible, year, life)\n",
    "        self.brand = brand\n",
    "        \n",
    "class Computer(Electronic_Device):\n",
    "    \n",
    "    def __init__(self, is_bt_compatible=False, year=1965, life=\"5 years\"):\n",
    "        Electronic_Device.__init__(self, is_bt_compatible, year, life)\n",
    "        \n",
    "class Desktop(Computer):\n",
    "    \n",
    "    def __init__(self, is_bt_compatible=False, year=1930, life=\"10 years\"):\n",
    "        Electronic_Device.__init__(self, is_bt_compatible, year, life)\n",
    "               \n",
    "        "
   ]
  },
  {
   "cell_type": "code",
   "execution_count": null,
   "id": "38de8789",
   "metadata": {},
   "outputs": [],
   "source": []
  }
 ],
 "metadata": {
  "kernelspec": {
   "display_name": "Python 3 (ipykernel)",
   "language": "python",
   "name": "python3"
  },
  "language_info": {
   "codemirror_mode": {
    "name": "ipython",
    "version": 3
   },
   "file_extension": ".py",
   "mimetype": "text/x-python",
   "name": "python",
   "nbconvert_exporter": "python",
   "pygments_lexer": "ipython3",
   "version": "3.9.0"
  }
 },
 "nbformat": 4,
 "nbformat_minor": 5
}
