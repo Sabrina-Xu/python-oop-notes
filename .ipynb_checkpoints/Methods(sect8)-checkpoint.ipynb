{
 "cells": [
  {
   "cell_type": "code",
   "execution_count": 9,
   "id": "9033b770",
   "metadata": {},
   "outputs": [
    {
     "name": "stdout",
     "output_type": "stream",
     "text": [
      "[]\n",
      "['Water bottle', 'Sleeping bag']\n",
      "True\n",
      "['Water bottle']\n"
     ]
    }
   ],
   "source": [
    "class Backpack:\n",
    "\n",
    "    def __init__(self):\n",
    "        self._items = []\n",
    "        \n",
    "    @property\n",
    "    def items(self):\n",
    "        return self._items\n",
    "    \n",
    "    def add_item(self, item):\n",
    "        if isinstance(item, str):\n",
    "            self._items.append(item)\n",
    "        else:\n",
    "            print(\"Please provide a valid item\")\n",
    "    \n",
    "    def remove_item(self, item):\n",
    "        if item in self._items:\n",
    "            self._items.remove(item)\n",
    "            return 1\n",
    "        else:\n",
    "            return 0\n",
    "        \n",
    "    def has_item(self, item):\n",
    "        return item in self._items\n",
    "    \n",
    "my_backpack = Backpack()\n",
    "print(my_backpack.items)\n",
    "\n",
    "my_backpack.add_item(\"Water bottle\")\n",
    "my_backpack.add_item(\"Sleeping bag\")\n",
    "print(my_backpack.items)\n",
    "\n",
    "has_water = my_backpack.has_item(\"Water bottle\")\n",
    "print(has_water)\n",
    "\n",
    "my_backpack.remove_item(\"Sleeping bag\")\n",
    "print(my_backpack.items)"
   ]
  },
  {
   "cell_type": "markdown",
   "id": "37ae77f3",
   "metadata": {},
   "source": [
    "note: method can also be called by - Class.method(instance)"
   ]
  },
  {
   "cell_type": "code",
   "execution_count": 10,
   "id": "90a90e4f",
   "metadata": {},
   "outputs": [
    {
     "ename": "TypeError",
     "evalue": "increment() takes 1 positional argument but 2 were given",
     "output_type": "error",
     "traceback": [
      "\u001b[0;31m---------------------------------------------------------------------------\u001b[0m",
      "\u001b[0;31mTypeError\u001b[0m                                 Traceback (most recent call last)",
      "Cell \u001b[0;32mIn[10], line 12\u001b[0m\n\u001b[1;32m      7\u001b[0m         \u001b[38;5;28mself\u001b[39m\u001b[38;5;241m.\u001b[39mstart \u001b[38;5;241m+\u001b[39m\u001b[38;5;241m=\u001b[39m \u001b[38;5;241m1\u001b[39m\n\u001b[1;32m     10\u001b[0m my_counter \u001b[38;5;241m=\u001b[39m Counter(\u001b[38;5;241m5\u001b[39m)\n\u001b[0;32m---> 12\u001b[0m \u001b[43mmy_counter\u001b[49m\u001b[38;5;241;43m.\u001b[39;49m\u001b[43mincrement\u001b[49m\u001b[43m(\u001b[49m\u001b[38;5;241;43m3\u001b[39;49m\u001b[43m)\u001b[49m\n",
      "\u001b[0;31mTypeError\u001b[0m: increment() takes 1 positional argument but 2 were given"
     ]
    }
   ],
   "source": [
    "class Counter:\n",
    " \n",
    "    def __init__(self, start):\n",
    "        self.start = start\n",
    " \n",
    "    def increment(self):\n",
    "        self.start += 1\n",
    " \n",
    "        \n",
    "my_counter = Counter(5)\n",
    " \n",
    "my_counter.increment(3)"
   ]
  },
  {
   "cell_type": "markdown",
   "id": "d56a2afb",
   "metadata": {},
   "source": [
    "Default Arguments"
   ]
  },
  {
   "cell_type": "code",
   "execution_count": 14,
   "id": "e4e3e06a",
   "metadata": {},
   "outputs": [
    {
     "name": "stdout",
     "output_type": "stream",
     "text": [
      "Not Sorted: \n",
      "['Water Bottle', 'Sleeping bag', 'Candy']\n",
      "Sorted: \n",
      "['Candy', 'Sleeping bag', 'Water Bottle']\n"
     ]
    }
   ],
   "source": [
    "class Backpack:\n",
    "\n",
    "    def __init__(self):\n",
    "        self._items = []\n",
    "        \n",
    "    @property\n",
    "    def items(self):\n",
    "        return self._items\n",
    "    \n",
    "    def add_item(self, item):\n",
    "        if isinstance(item, str):\n",
    "            self._items.append(item)\n",
    "        else:\n",
    "            print(\"Please provide a valid item\")\n",
    "    \n",
    "    def remove_item(self, item):\n",
    "        if item in self._items:\n",
    "            self._items.remove(item)\n",
    "            return 1\n",
    "        else:\n",
    "            return 0\n",
    "        \n",
    "    def has_item(self, item):\n",
    "        return item in self._items\n",
    "    \n",
    "    def show_items(self, sorted_list=False):\n",
    "        if sorted_list:\n",
    "            print(sorted(self._items))\n",
    "        else:\n",
    "            print(self._items)\n",
    "    \n",
    "my_backpack = Backpack()\n",
    "\n",
    "my_backpack.add_item(\"Water Bottle\")\n",
    "my_backpack.add_item(\"Sleeping bag\")\n",
    "my_backpack.add_item(\"Candy\")\n",
    "\n",
    "print(\"Not Sorted: \")\n",
    "my_backpack.show_items()\n",
    "print(\"Sorted: \")\n",
    "my_backpack.show_items(True)\n"
   ]
  },
  {
   "cell_type": "markdown",
   "id": "be18ee1c",
   "metadata": {},
   "source": [
    "Call Methods from other Methods"
   ]
  },
  {
   "cell_type": "code",
   "execution_count": 19,
   "id": "0bc06891",
   "metadata": {},
   "outputs": [
    {
     "name": "stdout",
     "output_type": "stream",
     "text": [
      "['Water Bottle', 'Candy']\n"
     ]
    }
   ],
   "source": [
    "class Backpack:\n",
    "\n",
    "    def __init__(self):\n",
    "        self._items = []\n",
    "        \n",
    "    @property\n",
    "    def items(self):\n",
    "        return self._items\n",
    "    \n",
    "    #reusing add_item() for multiple items in a list\n",
    "    def add_multiple_items(self, items):\n",
    "        for item in items:\n",
    "            self.add_item(item)\n",
    "    \n",
    "    #no need to call this method several times\n",
    "    def add_item(self, item):\n",
    "        if isinstance(item, str):\n",
    "            self._items.append(item)\n",
    "        else:\n",
    "            print(\"Please provide a valid item\")\n",
    "    \n",
    "    def remove_item(self, item):\n",
    "        if item in self._items:\n",
    "            self._items.remove(item)\n",
    "            return 1\n",
    "        else:\n",
    "            return 0\n",
    "        \n",
    "    def has_item(self, item):\n",
    "        return item in self._items\n",
    "    \n",
    "    def show_items(self, sorted_list=False):\n",
    "        if sorted_list:\n",
    "            print(sorted(self._items))\n",
    "        else:\n",
    "            print(self._items)\n",
    "    \n",
    "my_backpack = Backpack()\n",
    "\n",
    "my_backpack.add_multiple_items([\"Water Bottle\", \"Candy\"])\n",
    "print(my_backpack.items)"
   ]
  },
  {
   "cell_type": "code",
   "execution_count": null,
   "id": "3e2dae98",
   "metadata": {},
   "outputs": [],
   "source": []
  }
 ],
 "metadata": {
  "kernelspec": {
   "display_name": "Python 3 (ipykernel)",
   "language": "python",
   "name": "python3"
  },
  "language_info": {
   "codemirror_mode": {
    "name": "ipython",
    "version": 3
   },
   "file_extension": ".py",
   "mimetype": "text/x-python",
   "name": "python",
   "nbconvert_exporter": "python",
   "pygments_lexer": "ipython3",
   "version": "3.9.0"
  }
 },
 "nbformat": 4,
 "nbformat_minor": 5
}
