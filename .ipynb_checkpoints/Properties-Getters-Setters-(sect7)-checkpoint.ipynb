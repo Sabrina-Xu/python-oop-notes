{
 "cells": [
  {
   "cell_type": "markdown",
   "id": "a989ebad",
   "metadata": {},
   "source": [
    "Getters and Setters"
   ]
  },
  {
   "cell_type": "markdown",
   "id": "d9183c22",
   "metadata": {},
   "source": [
    "Getter: (object).get_(attribute)()"
   ]
  },
  {
   "cell_type": "markdown",
   "id": "ce352264",
   "metadata": {},
   "source": [
    "Setter: (object).set_(attribute)(new value)"
   ]
  },
  {
   "cell_type": "markdown",
   "id": "b3cc5c2a",
   "metadata": {},
   "source": [
    "Getter: A method that allows you to access an attribute in a given class"
   ]
  },
  {
   "cell_type": "markdown",
   "id": "eebca30a",
   "metadata": {},
   "source": [
    "Setter: A method that allows you to set or mutate the value of an attribute in a class"
   ]
  },
  {
   "cell_type": "code",
   "execution_count": 6,
   "id": "fe50bf78",
   "metadata": {},
   "outputs": [
    {
     "name": "stdout",
     "output_type": "stream",
     "text": [
      "[]\n",
      "['Water bottle', 'Pencil']\n"
     ]
    }
   ],
   "source": [
    "class Backpack:\n",
    "    \n",
    "    def __init__(self):\n",
    "        #non public attribute\n",
    "        self._items = []\n",
    "        \n",
    "    def get_items(self):\n",
    "        #accessing non public attribute\n",
    "        return self._items\n",
    "    \n",
    "    def set_items(self, new_items):\n",
    "        #2 parameters\n",
    "        #check if new item is a list\n",
    "        if isinstance(new_items, list):\n",
    "            self._items = new_items\n",
    "        else:\n",
    "            print(\"Please enter a valid list of items.\")\n",
    "            \n",
    "my_backpack = Backpack()\n",
    "#get inital value - empty list\n",
    "print(my_backpack.get_items())\n",
    "\n",
    "#new list of items\n",
    "my_backpack.set_items([\"Water bottle\", \"Pencil\"])\n",
    "print(my_backpack.get_items())\n",
    "\n",
    "# my_backpack.set_items(134) <-- not a list\n",
    "# print(my_backpack.get_items())\n",
    "#\n",
    "# Please enter a valid list of items.\n",
    "# ['Water bottle', 'Pencil']"
   ]
  },
  {
   "cell_type": "code",
   "execution_count": 12,
   "id": "31e6a776",
   "metadata": {},
   "outputs": [
    {
     "name": "stdout",
     "output_type": "stream",
     "text": [
      "5.0\n",
      "10.5\n"
     ]
    }
   ],
   "source": [
    "class Circle:\n",
    "    def __init__(self, radius):\n",
    "        self._radius = radius\n",
    "        \n",
    "    def get_radius(self):\n",
    "        return self._radius\n",
    "    \n",
    "    def set_radius(self, new_radius):\n",
    "        if isinstance(new_radius, float) and new_radius > 0:\n",
    "            self._radius = new_radius\n",
    "        else:\n",
    "            print(\"Please enter a float for the radius.\")\n",
    "            \n",
    "my_circle = Circle(5.0)\n",
    "print(my_circle.get_radius())\n",
    "\n",
    "my_circle.set_radius(10.5)\n",
    "print(my_circle.get_radius())"
   ]
  },
  {
   "cell_type": "markdown",
   "id": "a8d352dd",
   "metadata": {},
   "source": [
    "Properties: property(getter, setter)"
   ]
  },
  {
   "cell_type": "code",
   "execution_count": 17,
   "id": "b78c7ca4",
   "metadata": {},
   "outputs": [
    {
     "name": "stdout",
     "output_type": "stream",
     "text": [
      "10\n",
      "16\n",
      "Blue\n",
      "Red\n"
     ]
    }
   ],
   "source": [
    "class Circle:\n",
    "    \n",
    "    #class constant\n",
    "    VALID_COLORS = (\"Red\", \"Blue\", \"Green\")\n",
    "    \n",
    "    def __init__(self, radius, color):\n",
    "        self._radius = radius\n",
    "        self._color = color\n",
    "        \n",
    "    def get_radius(self):\n",
    "        return self._radius\n",
    "    \n",
    "    def set_radius(self, new_radius):\n",
    "        if isinstance(new_radius, int) and new_radius > 0:\n",
    "            self._radius = new_radius\n",
    "        else:\n",
    "            print(\"Please enter a valid radius.\")\n",
    "            \n",
    "    radius = property(get_radius, set_radius)\n",
    "    \n",
    "    def get_color(self):\n",
    "        return self._color\n",
    "    \n",
    "    def set_color(self, new_color):\n",
    "        if new_color in Circle.VALID_COLORS:\n",
    "            self._color = new_color\n",
    "        else:\n",
    "            print(\"Please enter a valid color.\")\n",
    "    color = property(get_color, set_color)\n",
    "    \n",
    "    \n",
    "my_circle = Circle(10, \"Blue\")\n",
    "\n",
    "#Radius\n",
    "print(my_circle.radius)\n",
    "#No need to write \"my_circle.set_radius(16)\"\"\n",
    "my_circle.radius = 16\n",
    "print(my_circle.radius)\n",
    "\n",
    "#Color\n",
    "print(my_circle.color)\n",
    "my_circle.color = \"Red\"\n",
    "print(my_circle.color)"
   ]
  },
  {
   "cell_type": "markdown",
   "id": "0b48e335",
   "metadata": {},
   "source": [
    "Using @property"
   ]
  },
  {
   "cell_type": "code",
   "execution_count": 18,
   "id": "2150fdd8",
   "metadata": {},
   "outputs": [
    {
     "name": "stdout",
     "output_type": "stream",
     "text": [
      "[]\n",
      "['Water Bottle', 'Sleeping bag']\n"
     ]
    }
   ],
   "source": [
    "class Backpack:\n",
    "    \n",
    "    def __init__(self):\n",
    "        self._items = []\n",
    "        \n",
    "    #Getter    \n",
    "    @property\n",
    "    def items(self):\n",
    "        return self._items\n",
    "    \n",
    "    #Setter\n",
    "    @items.setter\n",
    "    def items(self, new_items):\n",
    "        if isinstance(new_items, list):\n",
    "            self._items = new_items\n",
    "        else:\n",
    "            print(\"please enter a valid list of items.\")\n",
    "            \n",
    "my_backpack = Backpack()\n",
    "print(my_backpack.items)\n",
    "my_backpack.items = [\"Water Bottle\", \"Sleeping bag\"]\n",
    "print(my_backpack.items)\n",
    "    "
   ]
  },
  {
   "cell_type": "code",
   "execution_count": 25,
   "id": "b1accfce",
   "metadata": {},
   "outputs": [],
   "source": [
    "class BouncyBall:\n",
    " \n",
    "    def __init__(self, price, size, brand):\n",
    "        self._price = price \n",
    "        self._size = size \n",
    "        self._brand = brand\n",
    "    \n",
    "    #Price\n",
    "    def get_price(self):\n",
    "        return self._price\n",
    "    \n",
    "    def set_price(self, new_price):\n",
    "        if isinstance(new_price, float) and new_price > 0:\n",
    "            self._price = new_price\n",
    "        else:\n",
    "            print(\"Price must be over 0 and a float.\")\n",
    "        \n",
    "    price = property(get_price, set_price)\n",
    "    \n",
    "    #Size\n",
    "    def get_size(self):\n",
    "        return self._size\n",
    "    \n",
    "    def set_size(self, new_size):\n",
    "        self._size = new_size\n",
    "        \n",
    "    size = property(get_size, set_size)\n",
    "    \n",
    "    #Brand\n",
    "    def get_brand(self):\n",
    "        return self._brand()\n",
    "    \n",
    "    def set_brand(self, new_brand):\n",
    "        self._brand = new_brand\n",
    "        \n",
    "    brand = property(get_brand, set_brand)\n",
    "    "
   ]
  },
  {
   "cell_type": "code",
   "execution_count": 26,
   "id": "570dcb02",
   "metadata": {},
   "outputs": [],
   "source": [
    "class BouncyBall:\n",
    " \n",
    "    def __init__(self, price, size, brand):\n",
    "        self._price = price \n",
    "        self._size = size \n",
    "        self._brand = brand\n",
    "    \n",
    "    #Price\n",
    "    @property\n",
    "    def price(self):\n",
    "        return self._price\n",
    "    \n",
    "    @price.setter\n",
    "    def price(self, new_price):\n",
    "        if isinstance(new_price, float) and new_price > 0:\n",
    "            self._price = new_price\n",
    "        else:\n",
    "            print(\"Price must be over 0 and a float.\")\n",
    "    \n",
    "    #Size\n",
    "    @property\n",
    "    def size(self):\n",
    "        return self._size\n",
    "    \n",
    "    @size.setter\n",
    "    def size(self, new_size):\n",
    "        self._size = new_size\n",
    "    \n",
    "    #Brand\n",
    "    @property\n",
    "    def brand(self):\n",
    "        return self._brand()\n",
    "    \n",
    "    @brand.setter\n",
    "    def brand(self, new_brand):\n",
    "        self._brand = new_brand"
   ]
  },
  {
   "cell_type": "code",
   "execution_count": null,
   "id": "c2a7fc0c",
   "metadata": {},
   "outputs": [],
   "source": []
  }
 ],
 "metadata": {
  "kernelspec": {
   "display_name": "Python 3 (ipykernel)",
   "language": "python",
   "name": "python3"
  },
  "language_info": {
   "codemirror_mode": {
    "name": "ipython",
    "version": 3
   },
   "file_extension": ".py",
   "mimetype": "text/x-python",
   "name": "python",
   "nbconvert_exporter": "python",
   "pygments_lexer": "ipython3",
   "version": "3.9.0"
  }
 },
 "nbformat": 4,
 "nbformat_minor": 5
}
