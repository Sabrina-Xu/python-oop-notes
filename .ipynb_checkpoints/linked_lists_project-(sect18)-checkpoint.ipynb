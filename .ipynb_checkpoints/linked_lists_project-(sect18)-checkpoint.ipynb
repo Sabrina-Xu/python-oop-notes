{
 "cells": [
  {
   "cell_type": "markdown",
   "id": "f594a179",
   "metadata": {},
   "source": [
    "Node: basic unit of data structure"
   ]
  },
  {
   "cell_type": "markdown",
   "id": "ee562614",
   "metadata": {},
   "source": [
    "Pointer: a reference to another node in a data structure"
   ]
  },
  {
   "cell_type": "code",
   "execution_count": null,
   "id": "76d14b6c",
   "metadata": {},
   "outputs": [],
   "source": []
  },
  {
   "cell_type": "code",
   "execution_count": null,
   "id": "9585d924",
   "metadata": {},
   "outputs": [],
   "source": []
  }
 ],
 "metadata": {
  "kernelspec": {
   "display_name": "Python 3 (ipykernel)",
   "language": "python",
   "name": "python3"
  },
  "language_info": {
   "codemirror_mode": {
    "name": "ipython",
    "version": 3
   },
   "file_extension": ".py",
   "mimetype": "text/x-python",
   "name": "python",
   "nbconvert_exporter": "python",
   "pygments_lexer": "ipython3",
   "version": "3.9.0"
  }
 },
 "nbformat": 4,
 "nbformat_minor": 5
}
