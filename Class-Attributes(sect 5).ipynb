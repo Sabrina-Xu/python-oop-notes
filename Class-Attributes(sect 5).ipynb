{
 "cells": [
  {
   "cell_type": "markdown",
   "id": "1559cb6c",
   "metadata": {},
   "source": [
    "Class attributes - shared by all instances"
   ]
  },
  {
   "cell_type": "code",
   "execution_count": 2,
   "id": "28928da4",
   "metadata": {},
   "outputs": [],
   "source": [
    "class Dog:\n",
    "    #define before init\n",
    "    species = \"Canis lupus\"\n",
    "    \n",
    "    def __init__(self, name, age, breed):\n",
    "        self.name = name\n",
    "        self.age = age\n",
    "        self.breed = breed"
   ]
  },
  {
   "cell_type": "code",
   "execution_count": null,
   "id": "fe045c5c",
   "metadata": {},
   "outputs": [],
   "source": [
    "class Backpack:\n",
    "    \n",
    "    max_num_items = 10\n",
    "    \n",
    "    def __init__(self):\n",
    "        self.items = []"
   ]
  },
  {
   "cell_type": "markdown",
   "id": "a8f0cd5f",
   "metadata": {},
   "source": [
    "Accessing class attributes use dot notation: class.class_attribute"
   ]
  },
  {
   "cell_type": "code",
   "execution_count": 4,
   "id": "febc73b2",
   "metadata": {},
   "outputs": [
    {
     "name": "stdout",
     "output_type": "stream",
     "text": [
      "10\n",
      "10\n",
      "10\n"
     ]
    }
   ],
   "source": [
    "class Backpack:\n",
    "    \n",
    "    max_num_items = 10\n",
    "    \n",
    "    def __init__(self):\n",
    "        self.items = []\n",
    "        \n",
    "my_backpack = Backpack()\n",
    "your_backpack = Backpack()\n",
    "\n",
    "print(Backpack.max_num_items)\n",
    "\n",
    "print(my_backpack.max_num_items)\n",
    "print(your_backpack.max_num_items)"
   ]
  },
  {
   "cell_type": "code",
   "execution_count": 11,
   "id": "9660a25e",
   "metadata": {},
   "outputs": [
    {
     "name": "stdout",
     "output_type": "stream",
     "text": [
      "1\n",
      "2\n"
     ]
    }
   ],
   "source": [
    "class Movie:\n",
    "    \n",
    "    id_counter = 1\n",
    "    \n",
    "    def __init__(self, title, rating):\n",
    "        self.id = Movie.id_counter\n",
    "        self.title = title\n",
    "        self.rating = rating\n",
    "        \n",
    "        Movie.id_counter += 1\n",
    "        \n",
    "new1 = Movie(\"Legends\", 4.5)\n",
    "print(new1.id)\n",
    "\n",
    "new2 = Movie(\"Earth\", 2)\n",
    "print(new2.id)\n",
    "    "
   ]
  },
  {
   "cell_type": "markdown",
   "id": "95a9a067",
   "metadata": {},
   "source": [
    "Modifying class attributes: class.class_attribute = value"
   ]
  },
  {
   "cell_type": "code",
   "execution_count": 14,
   "id": "d6cd73f7",
   "metadata": {},
   "outputs": [
    {
     "name": "stdout",
     "output_type": "stream",
     "text": [
      "10\n",
      "10\n"
     ]
    }
   ],
   "source": [
    "class Backpack:\n",
    "    \n",
    "    max_num_items = 10\n",
    "    \n",
    "    def __init__(self):\n",
    "        self_items = []\n",
    "        \n",
    "print(Backpack.max_num_items)\n",
    "\n",
    "mybackpack = Backpack()\n",
    "print(mybackpack.max_num_items)\n",
    "\n",
    "#modify the max number of items from 10 to be 15\n",
    "Backpack.max_num_items = 15\n",
    "\n",
    "#now it has been changed for all instances\n",
    "print(Backpack.max_num_items)\n",
    "print(mybackpack.max_num_items)\n"
   ]
  },
  {
   "cell_type": "code",
   "execution_count": null,
   "id": "f3d0eb38",
   "metadata": {},
   "outputs": [],
   "source": []
  }
 ],
 "metadata": {
  "kernelspec": {
   "display_name": "Python 3 (ipykernel)",
   "language": "python",
   "name": "python3"
  },
  "language_info": {
   "codemirror_mode": {
    "name": "ipython",
    "version": 3
   },
   "file_extension": ".py",
   "mimetype": "text/x-python",
   "name": "python",
   "nbconvert_exporter": "python",
   "pygments_lexer": "ipython3",
   "version": "3.9.0"
  }
 },
 "nbformat": 4,
 "nbformat_minor": 5
}
