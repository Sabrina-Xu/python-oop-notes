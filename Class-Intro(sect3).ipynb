{
 "cells": [
  {
   "cell_type": "markdown",
   "id": "188b42f1",
   "metadata": {},
   "source": [
    "Class header"
   ]
  },
  {
   "cell_type": "code",
   "execution_count": 2,
   "id": "a27cac16",
   "metadata": {},
   "outputs": [],
   "source": [
    "class ClassName:\n",
    "    pass"
   ]
  },
  {
   "cell_type": "markdown",
   "id": "d6359bcf",
   "metadata": {},
   "source": [
    "Class body"
   ]
  },
  {
   "cell_type": "code",
   "execution_count": 5,
   "id": "3a65e3c5",
   "metadata": {},
   "outputs": [],
   "source": [
    "class ClassName:\n",
    "    #class attributes\n",
    "    #__init__()\n",
    "    #methods\n",
    "    pass"
   ]
  },
  {
   "cell_type": "code",
   "execution_count": null,
   "id": "d13f8b87",
   "metadata": {},
   "outputs": [],
   "source": []
  }
 ],
 "metadata": {
  "kernelspec": {
   "display_name": "Python 3 (ipykernel)",
   "language": "python",
   "name": "python3"
  },
  "language_info": {
   "codemirror_mode": {
    "name": "ipython",
    "version": 3
   },
   "file_extension": ".py",
   "mimetype": "text/x-python",
   "name": "python",
   "nbconvert_exporter": "python",
   "pygments_lexer": "ipython3",
   "version": "3.9.0"
  }
 },
 "nbformat": 4,
 "nbformat_minor": 5
}
