{
 "cells": [
  {
   "cell_type": "markdown",
   "id": "4ee1fe02",
   "metadata": {},
   "source": [
    "Public vs Non-Public Attributes"
   ]
  },
  {
   "cell_type": "code",
   "execution_count": 3,
   "id": "55fca06b",
   "metadata": {},
   "outputs": [
    {
     "name": "stdout",
     "output_type": "stream",
     "text": [
      "15\n"
     ]
    }
   ],
   "source": [
    "class Student:\n",
    "    \n",
    "    def __init__(self, student_id, name, age, gpa):\n",
    "        self.student_id = student_id\n",
    "        self.name = name\n",
    "        #underscore here - age attribute shouldn't be accessed outside\n",
    "        #of the class\n",
    "        self._age = age\n",
    "        self.gpa = gpa\n",
    "        \n",
    "student_nora = Student(\"245AFS\", \"Nora Nav\", 15, 3.96)\n",
    "\n",
    "#print(student_nora.age)\n",
    "#AttributeError: 'Student' object has no attribute 'age'\n",
    "\n",
    "#now add the underscore\n",
    "print(student_nora._age)"
   ]
  },
  {
   "cell_type": "code",
   "execution_count": 7,
   "id": "cc233817",
   "metadata": {},
   "outputs": [
    {
     "name": "stdout",
     "output_type": "stream",
     "text": [
      "1\n",
      "2\n"
     ]
    }
   ],
   "source": [
    "class Movie:\n",
    "    \n",
    "    id_counter = 1\n",
    "    \n",
    "    def __init__(self, title, year, language, rating):\n",
    "        self._id = Movie.id_counter\n",
    "        self.title = title\n",
    "        self.year = year\n",
    "        self.language = language\n",
    "        self.rating = rating\n",
    "        \n",
    "        Movie.id_counter += 1\n",
    "        \n",
    "        \n",
    "my_movie = Movie(\"No\", 2005, \"English\", 4.7)\n",
    "your_movie = Movie(\"Yes\", 1995, \"English\", 4.6)\n",
    "\n",
    "print(my_movie._id)\n",
    "print(your_movie._id)"
   ]
  },
  {
   "cell_type": "markdown",
   "id": "b7cd5289",
   "metadata": {},
   "source": [
    "Name Mangling: _classname__attribute"
   ]
  },
  {
   "cell_type": "code",
   "execution_count": 12,
   "id": "77a09cfe",
   "metadata": {},
   "outputs": [
    {
     "name": "stdout",
     "output_type": "stream",
     "text": [
      "['Water Bottle', 'Pen']\n"
     ]
    }
   ],
   "source": [
    "class Backpack:\n",
    "    \n",
    "    def __init__(self):\n",
    "        #2 underscores\n",
    "        self.__items = [\"Water Bottle\", \"Pen\"]\n",
    "        \n",
    "my_backpack = Backpack()\n",
    "\n",
    "#print(my_backpack.items)\n",
    "#AttributeError: 'Backpack' object has no attribute 'items'\n",
    "\n",
    "print(my_backpack._Backpack__items)"
   ]
  }
 ],
 "metadata": {
  "kernelspec": {
   "display_name": "Python 3 (ipykernel)",
   "language": "python",
   "name": "python3"
  },
  "language_info": {
   "codemirror_mode": {
    "name": "ipython",
    "version": 3
   },
   "file_extension": ".py",
   "mimetype": "text/x-python",
   "name": "python",
   "nbconvert_exporter": "python",
   "pygments_lexer": "ipython3",
   "version": "3.9.0"
  }
 },
 "nbformat": 4,
 "nbformat_minor": 5
}
