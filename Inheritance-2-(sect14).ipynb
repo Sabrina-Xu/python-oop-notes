{
 "cells": [
  {
   "cell_type": "code",
   "execution_count": 5,
   "id": "cd52d54e",
   "metadata": {},
   "outputs": [
    {
     "name": "stdout",
     "output_type": "stream",
     "text": [
      "This polygon has 3 sides and it's Blue.\n",
      "10.0\n",
      "This polygon has 4 sides and it's Green.\n",
      "16\n"
     ]
    }
   ],
   "source": [
    "class Polygon:\n",
    "    def __init__(self, num_sides, color):\n",
    "        self.num_sides = num_sides\n",
    "        self.color = color\n",
    "        \n",
    "    #method\n",
    "    def describe_polygon(self):\n",
    "        print(f\"This polygon has {self.num_sides} sides and it's {self.color}.\")\n",
    "    \n",
    "        \n",
    "class Triangle(Polygon):\n",
    "    \n",
    "    NUM_SIDES = 3\n",
    "    \n",
    "    def __init__(self, base, height, color):\n",
    "        Polygon.__init__(self, Triangle.NUM_SIDES, color)\n",
    "        self.base = base\n",
    "        self.height = height\n",
    "        \n",
    "    def find_area(self):\n",
    "        return (self.base * self.height)/2\n",
    "        \n",
    "class Square(Polygon):\n",
    "    \n",
    "    NUM_SIDES = 4\n",
    "    \n",
    "    def __init__(self, side_length, color):\n",
    "        Polygon.__init__(self, Square.NUM_SIDES, color)\n",
    "        self.side_length = side_length\n",
    "        \n",
    "    def find_area(self):\n",
    "        return self.side_length**2\n",
    "        \n",
    "        \n",
    "my_triangle = Triangle(5, 4, \"Blue\")\n",
    "my_triangle.describe_polygon()\n",
    "print(my_triangle.find_area())\n",
    "\n",
    "my_square = Square(4, \"Green\")\n",
    "my_square.describe_polygon()\n",
    "print(my_square.find_area())\n",
    "        "
   ]
  },
  {
   "cell_type": "code",
   "execution_count": 6,
   "id": "33f4c390",
   "metadata": {},
   "outputs": [
    {
     "name": "stdout",
     "output_type": "stream",
     "text": [
      "Your current balance is:\n",
      "45600\n",
      "Your current balance is:\n",
      "52164.0\n",
      "Your current balance is:\n",
      "67899\n"
     ]
    }
   ],
   "source": [
    "class BankAccount:\n",
    " \n",
    "\tdef __init__(self, owner, balance, currency):\n",
    "\t\tself.owner = owner\n",
    "\t\tself.balance = balance\n",
    "\t\tself.currency = currency\n",
    " \n",
    "\tdef print_balance(self):\n",
    "\t\tprint(\"Your current balance is:\")\n",
    "\t\tprint(self.balance) \n",
    " \n",
    "\tdef make_deposit(self, amount):\n",
    "\t\tif amount > 0:\n",
    "\t\t\tself.balance += amount\n",
    "\t\telse:\n",
    "\t\t\tprint(\"Please enter a valid amount.\")\n",
    " \n",
    "\tdef make_withdrawal(self, amount):\n",
    "\t\tif self.balance - amount >= 0:\n",
    "\t\t\tself.balance -= amount\n",
    "\t\telse:\n",
    "\t\t\tprint(\"You don't have enough funds to make this withdrawal.\")\n",
    " \n",
    " \n",
    "class SavingsBankAccount(BankAccount):\n",
    " \n",
    "\tINTEREST_RATE = 0.035\n",
    " \n",
    "\tdef __init__(self, owner, balance, currency):\n",
    "\t\tBankAccount.__init__(self, owner, balance, currency)\n",
    "\t\tself.interest_rate = SavingsBankAccount.INTEREST_RATE\n",
    " \n",
    "\tdef deposit_interest_earned(self):\n",
    "\t\tinterest_earned = self.balance * SavingsBankAccount.INTEREST_RATE\n",
    "\t\tself.balance += interest_earned\n",
    " \n",
    " \n",
    "class CheckingBankAccount(BankAccount):\n",
    " \n",
    "\tdef __init__(self, owner, balance, currency, debit_card=None, credit_card=None):\n",
    "\t\tBankAccount.__init__(self, owner, balance, currency)\n",
    "\t\tself.debit_card = debit_card\n",
    "\t\tself.credit_card = credit_card\n",
    " \n",
    " \n",
    "my_savings_account = SavingsBankAccount(\"Nora Nav\", 45600, \"USD\")\n",
    " \n",
    "my_savings_account.print_balance()\n",
    "my_savings_account.make_deposit(5000)\n",
    "my_savings_account.make_withdrawal(200)\n",
    " \n",
    "my_savings_account.deposit_interest_earned()\n",
    "my_savings_account.print_balance()\n",
    " \n",
    "my_checking_account = CheckingBankAccount(\"Nora Nav\", 67899, \"GBP\")\n",
    " \n",
    "my_checking_account.print_balance()\n",
    "my_checking_account.make_deposit(4000)\n",
    "my_checking_account.make_withdrawal(100)"
   ]
  },
  {
   "cell_type": "code",
   "execution_count": 7,
   "id": "9c12c3bf",
   "metadata": {},
   "outputs": [],
   "source": [
    "class Professor:\n",
    "    def __init__(self, name, age, course):\n",
    "        self.name = name\n",
    "        self.age = age\n",
    "        self.course = course\n",
    "        \n",
    "    def greet_students(self):\n",
    "        print(\"Welcome to class!\")\n",
    "\n",
    "# Define your class below this line\n",
    "class ScienceProfessor(Professor):\n",
    "    \n",
    "    def __init__(self, name, age, course):\n",
    "        Professor.__init__(self, name, age, course)\n",
    "        \n",
    "    def greet_students(self):\n",
    "        print(\"Hi everyone! It's a great day to study Science!\")\n",
    "        Professor.greet_students(self)\n",
    "        \n",
    "science_professor = ScienceProfessor(\"Sar\", 16, \"physics\")"
   ]
  },
  {
   "cell_type": "markdown",
   "id": "0fe7e0bc",
   "metadata": {},
   "source": [
    "Method overriding"
   ]
  },
  {
   "cell_type": "code",
   "execution_count": 8,
   "id": "b5ec2a30",
   "metadata": {},
   "outputs": [
    {
     "name": "stdout",
     "output_type": "stream",
     "text": [
      "It's time to go to school. Let's add a snack.\n",
      "Adding a snack to this backpack...\n",
      "Candy was added to backpack successfully.\n",
      "Now your backpack has: ['candy']\n"
     ]
    }
   ],
   "source": [
    "class Backpack:\n",
    "    \n",
    "    def __init__(self):\n",
    "        self.items = []\n",
    "        \n",
    "    def add_snack(self, snack):\n",
    "        print(\"Adding a snack to this backpack...\")\n",
    "        self.items.append(snack)\n",
    "        print(f\"{snack.capitalize()} was added to backpack successfully.\")\n",
    "        \n",
    "class SchoolBackpack(Backpack):\n",
    "    \n",
    "    def add_snack(self, snack):\n",
    "        #extending and overriding backpack method\n",
    "        print(\"It's time to go to school. Let's add a snack.\")\n",
    "        Backpack.add_snack(self, snack)\n",
    "        #Adding a snack to this backpack...\n",
    "        #snack was added to backpack successfully.\n",
    "        print(\"Now your backpack has:\", self.items)\n",
    "    \n",
    "my_backpack = SchoolBackpack()\n",
    "my_backpack.add_snack(\"candy\")"
   ]
  },
  {
   "cell_type": "code",
   "execution_count": null,
   "id": "5528fe35",
   "metadata": {},
   "outputs": [],
   "source": []
  }
 ],
 "metadata": {
  "kernelspec": {
   "display_name": "Python 3 (ipykernel)",
   "language": "python",
   "name": "python3"
  },
  "language_info": {
   "codemirror_mode": {
    "name": "ipython",
    "version": 3
   },
   "file_extension": ".py",
   "mimetype": "text/x-python",
   "name": "python",
   "nbconvert_exporter": "python",
   "pygments_lexer": "ipython3",
   "version": "3.9.0"
  }
 },
 "nbformat": 4,
 "nbformat_minor": 5
}
