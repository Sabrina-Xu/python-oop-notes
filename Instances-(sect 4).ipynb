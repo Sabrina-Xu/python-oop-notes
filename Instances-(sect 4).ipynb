{
 "cells": [
  {
   "cell_type": "code",
   "execution_count": 3,
   "id": "c53c4143",
   "metadata": {},
   "outputs": [],
   "source": [
    "class House:\n",
    "    #calls the initial state of an object\n",
    "    def __init__(self, price):\n",
    "        self.price = price"
   ]
  },
  {
   "cell_type": "code",
   "execution_count": 4,
   "id": "fd850350",
   "metadata": {},
   "outputs": [],
   "source": [
    "class Backpack:\n",
    "    def __init__(self, colour, size):\n",
    "        #initially, all backpacks are empty, so items is not a paramter\n",
    "        self.items = []\n",
    "        #initial item is an empty list\n",
    "        self.colour = colour\n",
    "        self.size = size\n",
    "        "
   ]
  },
  {
   "cell_type": "markdown",
   "id": "4d98acbb",
   "metadata": {},
   "source": [
    "self is always the first parameter\n",
    "It is a generic way of referring to the current instance being created\n",
    "We skip it because it is assigned automatically by the program"
   ]
  },
  {
   "cell_type": "code",
   "execution_count": 3,
   "id": "1fe7c734",
   "metadata": {},
   "outputs": [],
   "source": [
    "class Circle:\n",
    "    def __init__(self, radius):\n",
    "        self.radius = radius\n",
    "        #take the instance being created - self, attribute is radius and assign the value we pass to this parameter\n",
    "        self.colour = \"Blue\"\n",
    "        #all backpacks are blue"
   ]
  },
  {
   "cell_type": "code",
   "execution_count": 2,
   "id": "c547cf14",
   "metadata": {},
   "outputs": [
    {
     "name": "stdout",
     "output_type": "stream",
     "text": [
      "<__main__.Backpack object at 0x10ba6e6d0>\n"
     ]
    }
   ],
   "source": [
    "class Backpack:\n",
    "    def __init__(self):\n",
    "        self.items = []\n",
    "        \n",
    "my_backpack = Backpack()\n",
    "#creating the Backpack instance and assigning it to a variable\n",
    "\n",
    "print(my_backpack)"
   ]
  },
  {
   "cell_type": "markdown",
   "id": "3ec07ed4",
   "metadata": {},
   "source": [
    "Passing in arguments"
   ]
  },
  {
   "cell_type": "code",
   "execution_count": 8,
   "id": "f34a658d",
   "metadata": {},
   "outputs": [
    {
     "name": "stdout",
     "output_type": "stream",
     "text": [
      "<__main__.Rectangle object at 0x10ba6e8e0>\n"
     ]
    }
   ],
   "source": [
    "class Rectangle:\n",
    "    def __init__(self, length, width):\n",
    "        self.length = length\n",
    "        self.width = width\n",
    "        \n",
    "my_rectangle = Rectangle(3, 6)\n",
    "\n",
    "print(my_rectangle)"
   ]
  },
  {
   "cell_type": "markdown",
   "id": "4342fe59",
   "metadata": {},
   "source": [
    "Accessing attributes\n",
    "use dot notation: (variable of instance).(attribute)"
   ]
  },
  {
   "cell_type": "code",
   "execution_count": null,
   "id": "8bf683b4",
   "metadata": {},
   "outputs": [],
   "source": [
    "class Backpack:\n",
    "    \n",
    "    def __init__(self):\n",
    "        self.items = [\"Water Bottle\", \"Pencils\"]\n",
    "\n",
    "my_backpack = Backpack()\n",
    "print(my_backpack.items)"
   ]
  },
  {
   "cell_type": "code",
   "execution_count": 11,
   "id": "276db399",
   "metadata": {},
   "outputs": [
    {
     "name": "stdout",
     "output_type": "stream",
     "text": [
      "My Favourite Movie:\n",
      "The Matrix\n",
      "1999\n",
      "English\n",
      "Your Favourite Movie:\n",
      "Titanic\n",
      "1997\n",
      "English\n"
     ]
    }
   ],
   "source": [
    "class Movie:\n",
    "    def __init__(self, title, year, language):\n",
    "        self.title = title\n",
    "        self.year = year\n",
    "        self.language = language\n",
    "        \n",
    "fav_movie = Movie(\"The Matrix\", \"1999\", \"English\")\n",
    "your_fav_movie = Movie(\"Titanic\", 1997, \"English\")\n",
    "\n",
    "print(\"My Favourite Movie:\")\n",
    "print(fav_movie.title)\n",
    "print(fav_movie.year)\n",
    "print(fav_movie.language)\n",
    "\n",
    "print(\"Your Favourite Movie:\")\n",
    "print(your_fav_movie.title)\n",
    "print(your_fav_movie.year)\n",
    "print(your_fav_movie.language)\n"
   ]
  },
  {
   "cell_type": "markdown",
   "id": "9ee2f2fd",
   "metadata": {},
   "source": [
    "Default arguments - use when if no value is passed, it can use the default value; must be the last parameter in the list"
   ]
  },
  {
   "cell_type": "code",
   "execution_count": 12,
   "id": "dbfe1783",
   "metadata": {},
   "outputs": [
    {
     "name": "stdout",
     "output_type": "stream",
     "text": [
      "5\n"
     ]
    }
   ],
   "source": [
    "class Circle:\n",
    "    \n",
    "    def __init__(self, radius=5):\n",
    "        self.radius = radius\n",
    "        \n",
    "my_circle = Circle()\n",
    "print(my_circle.radius)"
   ]
  },
  {
   "cell_type": "markdown",
   "id": "05e50f52",
   "metadata": {},
   "source": [
    "Updating Instance Attributes"
   ]
  },
  {
   "cell_type": "code",
   "execution_count": 14,
   "id": "a030800b",
   "metadata": {},
   "outputs": [
    {
     "name": "stdout",
     "output_type": "stream",
     "text": [
      "6\n",
      "Yellow\n",
      "15\n",
      "15\n"
     ]
    }
   ],
   "source": [
    "class Circle:\n",
    "    \n",
    "    def __init__(self, radius, colour):\n",
    "        self.radius = radius\n",
    "        self.colour = colour\n",
    "my_circle = Circle(6, \"Yellow\")\n",
    "print(my_circle.radius)\n",
    "print(my_circle.colour)\n",
    "\n",
    "my_circle.radius = 15\n",
    "my_circle.colour = 'Black'\n",
    "\n",
    "print(my_circle.radius)\n",
    "print(my_circle.radius)"
   ]
  },
  {
   "cell_type": "markdown",
   "id": "fc77039c",
   "metadata": {},
   "source": [
    "Delete Instance attribute: del (instance).(attribute)\n"
   ]
  },
  {
   "cell_type": "code",
   "execution_count": 16,
   "id": "e893a252",
   "metadata": {},
   "outputs": [],
   "source": [
    "class Bacterium:\n",
    "    # Complete the class\n",
    "    def __init__(self, x, y, is_unicellular, damage, shape):\n",
    "        self.x = x\n",
    "        self.y = y\n",
    "        self.is_unicellular = is_unicellular\n",
    "        self.damage = damage\n",
    "        self.shape = shape\n",
    "\n",
    "\n",
    "salmonella = Bacterium(10, 10, False, \"high\", \"rod-shaped\")\n",
    "rickettsia = Bacterium(20, 50, True, \"low\", \"rod-shaped\")\n",
    "vibrio = Bacterium(60, 100, True, \"medium\", \"curved rod\")"
   ]
  }
 ],
 "metadata": {
  "kernelspec": {
   "display_name": "Python 3 (ipykernel)",
   "language": "python",
   "name": "python3"
  },
  "language_info": {
   "codemirror_mode": {
    "name": "ipython",
    "version": 3
   },
   "file_extension": ".py",
   "mimetype": "text/x-python",
   "name": "python",
   "nbconvert_exporter": "python",
   "pygments_lexer": "ipython3",
   "version": "3.9.0"
  }
 },
 "nbformat": 4,
 "nbformat_minor": 5
}
