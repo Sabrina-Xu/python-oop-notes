{
 "cells": [
  {
   "cell_type": "code",
   "execution_count": 1,
   "id": "2201b35c",
   "metadata": {},
   "outputs": [
    {
     "name": "stdout",
     "output_type": "stream",
     "text": [
      "4395427632\n",
      "4395427872\n"
     ]
    }
   ],
   "source": [
    "class Backpack:\n",
    "    \n",
    "    def __init__(self):\n",
    "        self._items = []\n",
    "    \n",
    "    @property\n",
    "    def items(self):\n",
    "        return self._items\n",
    "    \n",
    "my_backpack = Backpack()\n",
    "your_backpack = Backpack()\n",
    "\n",
    "print(id(my_backpack))\n",
    "print(id(your_backpack))"
   ]
  },
  {
   "cell_type": "code",
   "execution_count": 3,
   "id": "17c7577e",
   "metadata": {},
   "outputs": [
    {
     "name": "stdout",
     "output_type": "stream",
     "text": [
      "True\n"
     ]
    }
   ],
   "source": [
    "a = [5, 2, 1, 8, 3]\n",
    "b = a\n",
    "\n",
    "print(a is b)\n",
    "#they refer to the same object in memory"
   ]
  },
  {
   "cell_type": "code",
   "execution_count": null,
   "id": "b050b61a",
   "metadata": {},
   "outputs": [],
   "source": []
  }
 ],
 "metadata": {
  "kernelspec": {
   "display_name": "Python 3 (ipykernel)",
   "language": "python",
   "name": "python3"
  },
  "language_info": {
   "codemirror_mode": {
    "name": "ipython",
    "version": 3
   },
   "file_extension": ".py",
   "mimetype": "text/x-python",
   "name": "python",
   "nbconvert_exporter": "python",
   "pygments_lexer": "ipython3",
   "version": "3.9.0"
  }
 },
 "nbformat": 4,
 "nbformat_minor": 5
}
