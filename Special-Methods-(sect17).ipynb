{
 "cells": [
  {
   "cell_type": "code",
   "execution_count": 2,
   "id": "6ce04cbc",
   "metadata": {},
   "outputs": [
    {
     "name": "stdout",
     "output_type": "stream",
     "text": [
      "Student: Nora | Student ID: 42AB9 | Age: 34 | GPA: 3.76\n"
     ]
    }
   ],
   "source": [
    "class Student:\n",
    "    \n",
    "    def __init__(self, id, name, age, gpa):\n",
    "        self.id = id\n",
    "        self.name = name\n",
    "        self.age = age\n",
    "        self.gpa = gpa\n",
    "        \n",
    "    def __str__(self):\n",
    "        return f\"Student: {self.name} | Student ID: {self.id} | Age: {self.age} | GPA: {self.gpa}\"\n",
    "    \n",
    "    \n",
    "student = Student(\"42AB9\", \"Nora\", 34, 3.76)\n",
    "print(student)"
   ]
  },
  {
   "cell_type": "code",
   "execution_count": 10,
   "id": "5e8c97b4",
   "metadata": {},
   "outputs": [
    {
     "name": "stdout",
     "output_type": "stream",
     "text": [
      "3\n",
      "2\n",
      "0\n"
     ]
    }
   ],
   "source": [
    "class Backpack:\n",
    "    \n",
    "    def __init__(self):\n",
    "        self.items = []\n",
    "        \n",
    "    def add_item(self, item):\n",
    "        self.items.append(item)\n",
    "        \n",
    "    def remove_item(self, item):\n",
    "        if item in self.items:\n",
    "            self.items.remove(item)\n",
    "        else:\n",
    "            print(\"This item isn't in the backpack\")\n",
    "            \n",
    "    def __len__(self):\n",
    "        return len(self.items)\n",
    "    \n",
    "my_backpack = Backpack()\n",
    "\n",
    "my_backpack.add_item(\"Water bottle\")\n",
    "my_backpack.add_item(\"Sleeping bag\")\n",
    "my_backpack.add_item(\"Map\")\n",
    "\n",
    "print(len(my_backpack))\n",
    "            \n",
    "my_backpack.remove_item(\"Sleeping bag\")\n",
    "\n",
    "print(len(my_backpack))\n",
    "\n",
    "my_backpack.remove_item(\"Water bottle\")\n",
    "my_backpack.remove_item(\"Map\")\n",
    "            \n",
    "print(len(my_backpack))"
   ]
  },
  {
   "cell_type": "code",
   "execution_count": 11,
   "id": "70f0611d",
   "metadata": {},
   "outputs": [
    {
     "name": "stdout",
     "output_type": "stream",
     "text": [
      "(7, 9)\n"
     ]
    }
   ],
   "source": [
    "class Point2D:\n",
    "    \n",
    "    def __init__(self, x, y):\n",
    "        self.x = x\n",
    "        self.y = y\n",
    "        \n",
    "    def __add__(self, other): # (3).__add__(4)\n",
    "        new_x = self.x + other.x\n",
    "        new_y = self.y + other.y\n",
    "        return Point2D(new_x, new_y)\n",
    "    \n",
    "    def __str__(self):\n",
    "        return f\"({self.x}, {self.y})\"\n",
    "    \n",
    "    \n",
    "pointA = Point2D(5, 6)\n",
    "pointB = Point2D(2, 3)\n",
    "\n",
    "pointC = pointA + pointB #calls add method\n",
    "print(pointC)\n",
    "    \n",
    "    "
   ]
  },
  {
   "cell_type": "code",
   "execution_count": 14,
   "id": "6e1c736c",
   "metadata": {},
   "outputs": [
    {
     "name": "stdout",
     "output_type": "stream",
     "text": [
      "['Les Miserables', 'Pride and Prejudice', 'Frankenstein']\n",
      "['Sense and Sensibility', 'Jane Eyre', 'The Little Prince']\n",
      "['Moby Dick', 'The Adventures of Huckleberry Finn', 'Dracula']\n"
     ]
    }
   ],
   "source": [
    "class Bookshelf:\n",
    "\n",
    "    def __init__(self):\n",
    "        self.content = [[],\n",
    "                        [],\n",
    "                        []]\n",
    "\n",
    "    def add_book(self, book, location):\n",
    "        self.content[location].append(book)\n",
    "\n",
    "    def take_book(self, book, location):\n",
    "        self.content[location].remove(book)\n",
    "\n",
    "    def __getitem__(self, location):\n",
    "        return self.content[location] \n",
    "\n",
    "\n",
    "my_bookshelf = Bookshelf()\n",
    "\n",
    "my_bookshelf.add_book(\"Les Miserables\", 0)\n",
    "my_bookshelf.add_book(\"Pride and Prejudice\", 0)\n",
    "my_bookshelf.add_book(\"Frankenstein\", 0)\n",
    "\n",
    "my_bookshelf.add_book(\"Sense and Sensibility\", 1)\n",
    "my_bookshelf.add_book(\"Jane Eyre\", 1)\n",
    "my_bookshelf.add_book(\"The Little Prince\", 1)\n",
    "\n",
    "my_bookshelf.add_book(\"Moby Dick\", 2)\n",
    "my_bookshelf.add_book(\"The Adventures of Huckleberry Finn\", 2)\n",
    "my_bookshelf.add_book(\"Dracula\", 2)\n",
    "\n",
    "print(my_bookshelf[0])\n",
    "print(my_bookshelf[1])\n",
    "print(my_bookshelf[2])\n"
   ]
  },
  {
   "cell_type": "code",
   "execution_count": null,
   "id": "4a9d10e4",
   "metadata": {},
   "outputs": [],
   "source": []
  }
 ],
 "metadata": {
  "kernelspec": {
   "display_name": "Python 3 (ipykernel)",
   "language": "python",
   "name": "python3"
  },
  "language_info": {
   "codemirror_mode": {
    "name": "ipython",
    "version": 3
   },
   "file_extension": ".py",
   "mimetype": "text/x-python",
   "name": "python",
   "nbconvert_exporter": "python",
   "pygments_lexer": "ipython3",
   "version": "3.9.0"
  }
 },
 "nbformat": 4,
 "nbformat_minor": 5
}
