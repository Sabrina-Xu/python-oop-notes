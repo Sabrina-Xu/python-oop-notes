{
 "cells": [
  {
   "cell_type": "code",
   "execution_count": null,
   "id": "fa5c5e88",
   "metadata": {},
   "outputs": [],
   "source": [
    "class Node:\n",
    "    \n",
    "    def __init__(self, value, next_node=None):\n",
    "        self._value = value\n",
    "        self._next = next_node\n",
    "\n",
    "    @property\n",
    "    def value(self):\n",
    "        return self._value\n",
    "\n",
    "    @value.setter\n",
    "    def value(self, new_value):\n",
    "        self._value = new_value\n",
    "\n",
    "    @property\n",
    "    def next(self):\n",
    "        return self._next\n",
    "\n",
    "    @next.setter\n",
    "    def next(self, new_next):\n",
    "        self._next = new_next\n",
    "\n"
   ]
  }
 ],
 "metadata": {
  "kernelspec": {
   "display_name": "Python 3 (ipykernel)",
   "language": "python",
   "name": "python3"
  },
  "language_info": {
   "codemirror_mode": {
    "name": "ipython",
    "version": 3
   },
   "file_extension": ".py",
   "mimetype": "text/x-python",
   "name": "python",
   "nbconvert_exporter": "python",
   "pygments_lexer": "ipython3",
   "version": "3.9.0"
  }
 },
 "nbformat": 4,
 "nbformat_minor": 5
}
